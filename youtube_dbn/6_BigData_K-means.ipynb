{
 "cells": [
  {
   "cell_type": "markdown",
   "metadata": {},
   "source": [
    "## K-means Algorithm\n",
    "- Clustering Algorithm: 여러개의 데이터를 군집화하는 것\n",
    "- 대표적인 Unsupervised Learning Algorithm"
   ]
  },
  {
   "cell_type": "markdown",
   "metadata": {},
   "source": [
    "## K-means 사전 준비\n",
    "- 클러스터링을 수행할 데이터의 주제를 결정( 수학 학원에서 학생들의 성적에 따라 반을 구분하기)\n",
    "- 얼마나 많은 클러스터를 만들지 고민해야한다.( 고급반, 중급반, 초급반, ...)\n",
    "- 데이터를 준비한다. (데이터가 정확할수록 유리)\n",
    "- 클러스터링을 수행하기 위한 방법은 다양 ( 무작위 중심(Centroid) 값 선택, K-means++,...)"
   ]
  },
  {
   "cell_type": "markdown",
   "metadata": {},
   "source": [
    "## K-means 수행 과정\n",
    "- 1. 중심(Centroid)에 가까운 데이터를 클러스터에 포함시킨다.\n",
    "- 2. 중심(Centroid)을 클러스터의 중앙으로 이동시킨다.\n",
    "\n",
    "K-means는 위 두 과정을 반복 수행하면 된다. 결과적으로 완전하게 군집화된 클러스터들을 얻을 수 있다.\n",
    "더이상 중심(Centroid)의 위치가 변하지 않을 때까지 반복하는 것이 일반적"
   ]
  },
  {
   "cell_type": "code",
   "execution_count": null,
   "metadata": {
    "collapsed": true
   },
   "outputs": [],
   "source": []
  }
 ],
 "metadata": {
  "kernelspec": {
   "display_name": "Python 3",
   "language": "python",
   "name": "python3"
  },
  "language_info": {
   "codemirror_mode": {
    "name": "ipython",
    "version": 3
   },
   "file_extension": ".py",
   "mimetype": "text/x-python",
   "name": "python",
   "nbconvert_exporter": "python",
   "pygments_lexer": "ipython3",
   "version": "3.6.3"
  }
 },
 "nbformat": 4,
 "nbformat_minor": 2
}

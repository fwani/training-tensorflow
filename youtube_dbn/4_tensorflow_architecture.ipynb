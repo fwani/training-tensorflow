{
 "cells": [
  {
   "cell_type": "markdown",
   "metadata": {},
   "source": [
    "## 1. 클라이언트(Client)\n",
    "- 연산 과정을 data flow graph로 표현\n",
    "- Session을 이용해 그래프 시작"
   ]
  },
  {
   "cell_type": "markdown",
   "metadata": {},
   "source": [
    "## 2. 분산된 마스터(Distributed Master)\n",
    "- 세션의 시작을 위한 argument로 정의된 그래프에서 부분 그래프를 정리한다.\n",
    "- 하위 그래프를 다른 프로세스와 장치에서 실행되는 여러 조각으로 분할한다.\n",
    "- 그래프 조각이 처리 될 수 있도록 작업자 서비스에게 분배한다.\n",
    "- 작업자 서비스가 실행할 그래프 조각을 초기화한다."
   ]
  },
  {
   "cell_type": "markdown",
   "metadata": {},
   "source": [
    "## 3. 작업자 서비스(Worker Services)\n",
    "- 특정 하드웨어(CPU, GPU)에게 적절한 커널 기능을 이용하는 그래프 작업의 실행을 관리\n",
    "- 그래프가 효율적으로 동작하도록 하기위해서 커널 기능을 잘 이용 하는 것이 관건\n",
    "- 다른 작업자 서비스와 실행 결과를 주고 받는다."
   ]
  },
  {
   "cell_type": "markdown",
   "metadata": {},
   "source": [
    "## 4. 커널 기능(Kernel Implementation)\n",
    "- 개별적인 그래프 작업을 처리한다.\n",
    "- 실질적으로 컴퓨터가 연산을 처리하는 부분"
   ]
  },
  {
   "cell_type": "code",
   "execution_count": null,
   "metadata": {
    "collapsed": true
   },
   "outputs": [],
   "source": []
  }
 ],
 "metadata": {
  "kernelspec": {
   "display_name": "Python 3",
   "language": "python",
   "name": "python3"
  },
  "language_info": {
   "codemirror_mode": {
    "name": "ipython",
    "version": 3
   },
   "file_extension": ".py",
   "mimetype": "text/x-python",
   "name": "python",
   "nbconvert_exporter": "python",
   "pygments_lexer": "ipython3",
   "version": "3.6.3"
  }
 },
 "nbformat": 4,
 "nbformat_minor": 2
}

{
 "cells": [
  {
   "cell_type": "code",
   "execution_count": 1,
   "metadata": {
    "collapsed": true
   },
   "outputs": [],
   "source": [
    "import tensorflow as tf"
   ]
  },
  {
   "cell_type": "code",
   "execution_count": 2,
   "metadata": {
    "collapsed": true
   },
   "outputs": [],
   "source": [
    "xData = [1,2,3,4,5,6,7]\n",
    "yData = [25000,55000,75000,110000,128000,155000,180000]"
   ]
  },
  {
   "cell_type": "code",
   "execution_count": 4,
   "metadata": {
    "collapsed": true
   },
   "outputs": [],
   "source": [
    "X = tf.placeholder(tf.float32)\n",
    "Y = tf.placeholder(tf.float32)"
   ]
  },
  {
   "cell_type": "code",
   "execution_count": 5,
   "metadata": {
    "collapsed": true
   },
   "outputs": [],
   "source": [
    "# tf.random_uniform -100 ~ 100 사이의 값 중 하나 생성\n",
    "W = tf.Variable(tf.random_uniform([1], -100, 100))\n",
    "b = tf.Variable(tf.random_uniform([1], -100, 100))"
   ]
  },
  {
   "cell_type": "code",
   "execution_count": 6,
   "metadata": {
    "collapsed": true
   },
   "outputs": [],
   "source": [
    "H = W*X + b"
   ]
  },
  {
   "cell_type": "code",
   "execution_count": 7,
   "metadata": {
    "collapsed": true
   },
   "outputs": [],
   "source": [
    "cost = tf.reduce_mean(tf.square(H-Y))\n",
    "\n",
    "learning_rate = tf.Variable(0.01)\n",
    "optimizer = tf.train.GradientDescentOptimizer(learning_rate)\n",
    "\n",
    "train = optimizer.minimize(cost)"
   ]
  },
  {
   "cell_type": "code",
   "execution_count": 10,
   "metadata": {},
   "outputs": [
    {
     "name": "stdout",
     "output_type": "stream",
     "text": [
      "0 4.59532e+09 [ 10360.65039062] [ 2121.47973633]\n",
      "500 8.68866e+06 [ 25536.00976562] [ 1957.67456055]\n",
      "1000 8.63384e+06 [ 25627.28710938] [ 1505.67456055]\n",
      "1500 8.63268e+06 [ 25640.58789062] [ 1439.81005859]\n",
      "2000 8.63265e+06 [ 25642.52734375] [ 1430.20788574]\n",
      "2500 8.63265e+06 [ 25642.8046875] [ 1428.82250977]\n",
      "3000 8.63266e+06 [ 25642.84375] [ 1428.63378906]\n",
      "3500 8.63266e+06 [ 25642.84765625] [ 1428.61328125]\n",
      "4000 8.63266e+06 [ 25642.84765625] [ 1428.61328125]\n",
      "4500 8.63266e+06 [ 25642.84765625] [ 1428.61328125]\n",
      "5000 8.63266e+06 [ 25642.84765625] [ 1428.61328125]\n",
      "[ 206571.390625]\n"
     ]
    }
   ],
   "source": [
    "init = tf.global_variables_initializer()\n",
    "sess = tf.Session()\n",
    "sess.run(init)\n",
    "for i in range(5001):\n",
    "    sess.run(train, feed_dict={X:xData, Y:yData})\n",
    "    if i % 500 == 0:\n",
    "        print(i, sess.run(cost, feed_dict={X:xData, Y:yData}),\n",
    "              sess.run(W), sess.run(b))\n",
    "print(sess.run(H, feed_dict={X:[8]}))"
   ]
  },
  {
   "cell_type": "code",
   "execution_count": null,
   "metadata": {
    "collapsed": true
   },
   "outputs": [],
   "source": []
  }
 ],
 "metadata": {
  "kernelspec": {
   "display_name": "Python 3",
   "language": "python",
   "name": "python3"
  },
  "language_info": {
   "codemirror_mode": {
    "name": "ipython",
    "version": 3
   },
   "file_extension": ".py",
   "mimetype": "text/x-python",
   "name": "python",
   "nbconvert_exporter": "python",
   "pygments_lexer": "ipython3",
   "version": "3.6.3"
  }
 },
 "nbformat": 4,
 "nbformat_minor": 2
}

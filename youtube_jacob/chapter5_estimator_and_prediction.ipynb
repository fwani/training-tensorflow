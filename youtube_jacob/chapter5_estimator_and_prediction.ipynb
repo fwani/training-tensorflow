{
 "cells": [
  {
   "cell_type": "code",
   "execution_count": 1,
   "metadata": {
    "collapsed": true
   },
   "outputs": [],
   "source": [
    "import tensorflow as tf\n",
    "import numpy as np"
   ]
  },
  {
   "cell_type": "code",
   "execution_count": 6,
   "metadata": {
    "collapsed": true
   },
   "outputs": [],
   "source": [
    "def input_fn():\n",
    "    # repeat(step_repeat_number)\n",
    "    dataset = tf.data.TextLineDataset('./up_down_dataset.csv')\\\n",
    "        .batch(20)\\\n",
    "        .repeat(9999)\\\n",
    "        .make_one_shot_iterator()\\\n",
    "        .get_next()\n",
    "    lines = tf.decode_csv(dataset, record_defaults=[[0]]*11)\n",
    "    feature = tf.stack(lines[:-1], axis=1)\n",
    "    label = tf.expand_dims(lines[-1], axis=-1)\n",
    "    \n",
    "    feature = tf.cast(feature, tf.float32)\n",
    "    label = tf.cast(label, tf.float32)\n",
    "    return {'feature':feature}, label"
   ]
  },
  {
   "cell_type": "code",
   "execution_count": 9,
   "metadata": {
    "collapsed": true
   },
   "outputs": [],
   "source": [
    "def model_fn(features, labels, mode):  \n",
    "    # estimator에서 원하는 모양이 세가지 파라미터를 똑같은 이름으로 받아야한다.\n",
    "    \n",
    "    TRAIN = mode == tf.estimator.ModeKeys.TRAIN\n",
    "    EVAL = mode == tf.estimator.ModeKeys.EVAL\n",
    "    PRED = mode == tf.estimator.ModeKeys.PREDICT\n",
    "    \n",
    "    # input layer\n",
    "    layer1 = tf.layers.dense(features['feature'], units=10, activation=tf.nn.relu) # units = the number of node\n",
    "    \n",
    "    # hidden layers\n",
    "    layer2 = tf.layers.dense(layer1, units=10, activation=tf.nn.relu)\n",
    "    layer3 = tf.layers.dense(layer2, units=10, activation=tf.nn.relu)\n",
    "    layer4 = tf.layers.dense(layer3, units=10, activation=tf.nn.relu)\n",
    "    \n",
    "    # output layer\n",
    "    out = tf.layers.dense(layer4, units=1)  # label = 0 or 1\n",
    "    \n",
    "    if TRAIN:\n",
    "        gs = tf.train.get_global_step()\n",
    "        # loss function\n",
    "        loss = tf.losses.sigmoid_cross_entropy(labels, out)\n",
    "        train_op = tf.train.GradientDescentOptimizer(1e-2).minimize(loss, global_step=gs)\n",
    "        return tf.estimator.EstimatorSpec(\n",
    "            mode=mode,loss=loss,train_op=train_op)\n",
    "        \n",
    "    elif EVAL:\n",
    "        loss = tf.losses.sigmoid_cross_entropy(labels, out)\n",
    "        # prediction\n",
    "        pred = tf.nn.sigmoid(out)  # number of 0~1 \n",
    "        # accuracy\n",
    "        acc = tf.metrics.accuracy(labels, tf.round(pred))\n",
    "        return tf.estimator.EstimatorSpec(\n",
    "            mode=mode,loss=loss,eval_metric_ops={'acc':acc})\n",
    "    elif PRED:\n",
    "        prob = tf.nn.sigmoid(out)\n",
    "        class_ = tf.round(prob)\n",
    "        return tf.estimator.EstimatorSpec(mode=mode, predictions={'prob':prob,'class':class_})"
   ]
  },
  {
   "cell_type": "code",
   "execution_count": 23,
   "metadata": {},
   "outputs": [
    {
     "name": "stdout",
     "output_type": "stream",
     "text": [
      "INFO:tensorflow:Using default config.\n",
      "WARNING:tensorflow:Using temporary folder as model directory: /tmp/tmpk9ii877c\n",
      "INFO:tensorflow:Using config: {'_model_dir': '/tmp/tmpk9ii877c', '_tf_random_seed': None, '_save_summary_steps': 100, '_save_checkpoints_steps': None, '_save_checkpoints_secs': 600, '_session_config': allow_soft_placement: true\n",
      "graph_options {\n",
      "  rewrite_options {\n",
      "    meta_optimizer_iterations: ONE\n",
      "  }\n",
      "}\n",
      ", '_keep_checkpoint_max': 5, '_keep_checkpoint_every_n_hours': 10000, '_log_step_count_steps': 100, '_train_distribute': None, '_device_fn': None, '_protocol': None, '_eval_distribute': None, '_experimental_distribute': None, '_service': None, '_cluster_spec': <tensorflow.python.training.server_lib.ClusterSpec object at 0x7fc61c45d8d0>, '_task_type': 'worker', '_task_id': 0, '_global_id_in_cluster': 0, '_master': '', '_evaluation_master': '', '_is_chief': True, '_num_ps_replicas': 0, '_num_worker_replicas': 1}\n",
      "INFO:tensorflow:Calling model_fn.\n",
      "INFO:tensorflow:Done calling model_fn.\n",
      "INFO:tensorflow:Create CheckpointSaverHook.\n",
      "INFO:tensorflow:Graph was finalized.\n",
      "INFO:tensorflow:Running local_init_op.\n",
      "INFO:tensorflow:Done running local_init_op.\n",
      "INFO:tensorflow:Saving checkpoints for 0 into /tmp/tmpk9ii877c/model.ckpt.\n",
      "INFO:tensorflow:loss = 1.12007, step = 1\n",
      "INFO:tensorflow:global_step/sec: 412.261\n",
      "INFO:tensorflow:loss = 0.142223, step = 101 (0.245 sec)\n",
      "INFO:tensorflow:global_step/sec: 598.086\n",
      "INFO:tensorflow:loss = 0.0148031, step = 201 (0.167 sec)\n",
      "INFO:tensorflow:global_step/sec: 610.083\n",
      "INFO:tensorflow:loss = 0.00570537, step = 301 (0.167 sec)\n",
      "INFO:tensorflow:global_step/sec: 646.768\n",
      "INFO:tensorflow:loss = 0.00319149, step = 401 (0.151 sec)\n",
      "INFO:tensorflow:global_step/sec: 345.132\n",
      "INFO:tensorflow:loss = 0.00212336, step = 501 (0.294 sec)\n",
      "INFO:tensorflow:global_step/sec: 440.788\n",
      "INFO:tensorflow:loss = 0.00155683, step = 601 (0.224 sec)\n",
      "INFO:tensorflow:global_step/sec: 595.818\n",
      "INFO:tensorflow:loss = 0.00121546, step = 701 (0.169 sec)\n",
      "INFO:tensorflow:global_step/sec: 328.954\n",
      "INFO:tensorflow:loss = 0.000986874, step = 801 (0.306 sec)\n",
      "INFO:tensorflow:global_step/sec: 588.721\n",
      "INFO:tensorflow:loss = 0.000827003, step = 901 (0.167 sec)\n",
      "INFO:tensorflow:Saving checkpoints for 1000 into /tmp/tmpk9ii877c/model.ckpt.\n",
      "INFO:tensorflow:Loss for final step: 0.000709576.\n",
      "INFO:tensorflow:Calling model_fn.\n",
      "INFO:tensorflow:Done calling model_fn.\n",
      "INFO:tensorflow:Starting evaluation at 2018-10-17-14:12:10\n",
      "INFO:tensorflow:Graph was finalized.\n",
      "INFO:tensorflow:Restoring parameters from /tmp/tmpk9ii877c/model.ckpt-1000\n",
      "INFO:tensorflow:Running local_init_op.\n",
      "INFO:tensorflow:Done running local_init_op.\n",
      "INFO:tensorflow:Evaluation [1/10]\n",
      "INFO:tensorflow:Evaluation [2/10]\n",
      "INFO:tensorflow:Evaluation [3/10]\n",
      "INFO:tensorflow:Evaluation [4/10]\n",
      "INFO:tensorflow:Evaluation [5/10]\n",
      "INFO:tensorflow:Evaluation [6/10]\n",
      "INFO:tensorflow:Evaluation [7/10]\n",
      "INFO:tensorflow:Evaluation [8/10]\n",
      "INFO:tensorflow:Evaluation [9/10]\n",
      "INFO:tensorflow:Evaluation [10/10]\n",
      "INFO:tensorflow:Finished evaluation at 2018-10-17-14:12:10\n",
      "INFO:tensorflow:Saving dict for global step 1000: acc = 1.0, global_step = 1000, loss = 0.000708918\n",
      "INFO:tensorflow:Saving 'checkpoint_path' summary for global step 1000: /tmp/tmpk9ii877c/model.ckpt-1000\n",
      "INFO:tensorflow:Calling model_fn.\n",
      "INFO:tensorflow:Done calling model_fn.\n",
      "INFO:tensorflow:Graph was finalized.\n",
      "INFO:tensorflow:Restoring parameters from /tmp/tmpk9ii877c/model.ckpt-1000\n",
      "INFO:tensorflow:Running local_init_op.\n",
      "INFO:tensorflow:Done running local_init_op.\n",
      "feature: [ 1.  2.  3.  4.  5.  6.  7.  8.  9.  0.],prob: [ 0.9670738], class: [ 1.]\n",
      "feature: [ 5.  5.  5.  5.  5.  5.  5.  5.  5.  5.],prob: [ 0.42500985], class: [ 0.]\n",
      "feature: [ 9.  8.  7.  6.  5.  4.  3.  2.  1.  0.],prob: [ 0.000594], class: [ 0.]\n"
     ]
    }
   ],
   "source": [
    "if __name__ =='__main__':  # 이렇게 사용하는걸 적극 권장한다.\n",
    "    \n",
    "    # estimator 내부에서 생성되는 로그를 보기위한 것, jupyter에서 실행하면 바로나오더라.\n",
    "    tf.logging.set_verbosity(tf.logging.INFO)  \n",
    "    \n",
    "    estimate = tf.estimator.Estimator(model_fn)\n",
    "    estimate.train(input_fn, steps=1000)\n",
    "    \n",
    "    estimate.evaluate(input_fn,steps=10)\n",
    "    \n",
    "    \n",
    "    data1 = np.array([1,2,3,4,5,6,7,8,9,0], np.float32)\n",
    "    data2 = np.array([5,5,5,5,5,5,5,5,5,5], np.float32)\n",
    "    data3 = np.array([9-i for i in range(10)], np.float32)\n",
    "    data = np.stack([data1,data2,data3])\n",
    "    \n",
    "    pred_input_fn = tf.estimator\\\n",
    "        .inputs.numpy_input_fn({'feature':data},shuffle=False)\n",
    "    for d, pred in zip(data, estimate.predict(pred_input_fn)):\n",
    "        print('feature: {},prob: {}, class: {}'.format(d, pred['prob'], pred['class']))"
   ]
  },
  {
   "cell_type": "code",
   "execution_count": null,
   "metadata": {
    "collapsed": true
   },
   "outputs": [],
   "source": []
  }
 ],
 "metadata": {
  "kernelspec": {
   "display_name": "Python 3",
   "language": "python",
   "name": "python3"
  },
  "language_info": {
   "codemirror_mode": {
    "name": "ipython",
    "version": 3
   },
   "file_extension": ".py",
   "mimetype": "text/x-python",
   "name": "python",
   "nbconvert_exporter": "python",
   "pygments_lexer": "ipython3",
   "version": "3.6.3"
  }
 },
 "nbformat": 4,
 "nbformat_minor": 2
}

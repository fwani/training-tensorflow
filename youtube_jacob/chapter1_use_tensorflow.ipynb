{
 "cells": [
  {
   "cell_type": "code",
   "execution_count": 1,
   "metadata": {
    "collapsed": true
   },
   "outputs": [],
   "source": [
    "import tensorflow as tf"
   ]
  },
  {
   "cell_type": "code",
   "execution_count": 2,
   "metadata": {},
   "outputs": [
    {
     "name": "stdout",
     "output_type": "stream",
     "text": [
      "Tensor(\"Const:0\", shape=(), dtype=string)\n"
     ]
    }
   ],
   "source": [
    "# make tensor which is constant\n",
    "const = tf.constant('hi tensorflow')\n",
    "print(const)"
   ]
  },
  {
   "cell_type": "code",
   "execution_count": 3,
   "metadata": {},
   "outputs": [
    {
     "name": "stdout",
     "output_type": "stream",
     "text": [
      "b'hi tensorflow'\n"
     ]
    }
   ],
   "source": [
    "with tf.Session() as sess:\n",
    "    const_ = sess.run(const)\n",
    "    print(const_)"
   ]
  },
  {
   "cell_type": "code",
   "execution_count": 4,
   "metadata": {
    "collapsed": true
   },
   "outputs": [],
   "source": [
    "mat1 = [[1,2,3],[4,5,6],[7,8,9]]\n",
    "mat2 = [[2,2,2],[2,2,2],[2,2,2]]"
   ]
  },
  {
   "cell_type": "code",
   "execution_count": 5,
   "metadata": {},
   "outputs": [
    {
     "name": "stdout",
     "output_type": "stream",
     "text": [
      "Tensor(\"Const_1:0\", shape=(3, 3), dtype=int32)\n",
      "Tensor(\"Const_2:0\", shape=(3, 3), dtype=int32)\n"
     ]
    }
   ],
   "source": [
    "t_mat1 = tf.constant(mat1)\n",
    "t_mat2 = tf.constant(mat2)\n",
    "\n",
    "print(t_mat1)\n",
    "print(t_mat2)"
   ]
  },
  {
   "cell_type": "code",
   "execution_count": 6,
   "metadata": {
    "collapsed": true
   },
   "outputs": [],
   "source": [
    "result1 = tf.matmul(t_mat1, t_mat2)"
   ]
  },
  {
   "cell_type": "code",
   "execution_count": 7,
   "metadata": {
    "collapsed": true
   },
   "outputs": [],
   "source": [
    "result2 = tf.matmul(result1, t_mat2)"
   ]
  },
  {
   "cell_type": "code",
   "execution_count": 8,
   "metadata": {},
   "outputs": [
    {
     "name": "stdout",
     "output_type": "stream",
     "text": [
      "[[12 12 12]\n",
      " [30 30 30]\n",
      " [48 48 48]]\n",
      "[[ 72  72  72]\n",
      " [180 180 180]\n",
      " [288 288 288]]\n"
     ]
    }
   ],
   "source": [
    "with tf.Session() as sess:\n",
    "    r1_, r2_ = sess.run([result1, result2])\n",
    "    print(r1_)\n",
    "    print(r2_)"
   ]
  },
  {
   "cell_type": "code",
   "execution_count": null,
   "metadata": {
    "collapsed": true
   },
   "outputs": [],
   "source": []
  }
 ],
 "metadata": {
  "kernelspec": {
   "display_name": "Python 3",
   "language": "python",
   "name": "python3"
  },
  "language_info": {
   "codemirror_mode": {
    "name": "ipython",
    "version": 3
   },
   "file_extension": ".py",
   "mimetype": "text/x-python",
   "name": "python",
   "nbconvert_exporter": "python",
   "pygments_lexer": "ipython3",
   "version": "3.6.3"
  }
 },
 "nbformat": 4,
 "nbformat_minor": 2
}
